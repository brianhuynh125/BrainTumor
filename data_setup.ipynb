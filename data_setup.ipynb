{
 "cells": [
  {
   "cell_type": "code",
   "execution_count": null,
   "id": "22e68ee1",
   "metadata": {},
   "outputs": [],
   "source": [
    "import h5py\n",
    "import numpy as np\n",
    "\n",
    "all_data = []\n",
    "skipped_files = []\n",
    "\n",
    "for filename in range(1, 3065):\n",
    "    file_path = f'/Users/huynhnguyengiakhang/Documents/GitHub/BrainTumor/Data/brainTumorData/{filename}.mat'\n",
    "    with h5py.File(file_path, 'r') as f:\n",
    "        cjdata = f['cjdata']\n",
    "        label = int(cjdata['label'][0][0])\n",
    "        image = np.array(cjdata['image'], dtype=np.float32)\n",
    "        tumor_border = np.array(cjdata['tumorBorder'])[0]\n",
    "        tumor_mask = np.array(cjdata['tumorMask'], dtype=np.uint8)\n",
    "\n",
    "        # Only accept images and masks with shape (512, 512)\n",
    "        if image.shape == (512, 512) and tumor_mask.shape == (512, 512):\n",
    "            all_data.append({\n",
    "                'filename': filename,\n",
    "                'label': label,\n",
    "                'PID': pid,\n",
    "                'image': image,\n",
    "                'tumorBorder': tumor_border,\n",
    "                'tumorMask': tumor_mask\n",
    "            })\n",
    "        else:\n",
    "            skipped_files.append(filename)\n",
    "\n",
    "print(f\"{len(all_data)} files successfully loaded\")\n",
    "if skipped_files:\n",
    "    print(f\"Skipped files (wrong shape): {skipped_files}\")"
   ]
  },
  {
   "cell_type": "code",
   "execution_count": null,
   "id": "79695d20",
   "metadata": {},
   "outputs": [],
   "source": [
    "import os \n",
    "import matplotlib.pyplot as plt\n",
    "output_dir = '/Users/huynhnguyengiakhang/Documents/GitHub/BrainTumor/Data/brainTumorImg/'\n",
    "os.makedirs(output_dir, exist_ok=True)\n",
    "\n",
    "for i, img in enumerate(images):\n",
    "    plt.imsave(os.path.join(output_dir, f'{i+1}.jpg'), img, cmap='gray')"
   ]
  },
  {
   "cell_type": "code",
   "execution_count": 2,
   "id": "2e56bed4",
   "metadata": {},
   "outputs": [],
   "source": [
    "import torch\n",
    "from torch.utils.data import Dataset\n",
    "from PIL import Image\n",
    "import pandas as pd\n",
    "import os"
   ]
  },
  {
   "cell_type": "code",
   "execution_count": null,
   "id": "fb3baacd",
   "metadata": {},
   "outputs": [],
   "source": []
  }
 ],
 "metadata": {
  "kernelspec": {
   "display_name": "myvenv",
   "language": "python",
   "name": "python3"
  },
  "language_info": {
   "codemirror_mode": {
    "name": "ipython",
    "version": 3
   },
   "file_extension": ".py",
   "mimetype": "text/x-python",
   "name": "python",
   "nbconvert_exporter": "python",
   "pygments_lexer": "ipython3",
   "version": "3.11.2"
  }
 },
 "nbformat": 4,
 "nbformat_minor": 5
}
